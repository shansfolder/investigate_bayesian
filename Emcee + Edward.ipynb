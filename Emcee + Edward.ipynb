{
 "cells": [
  {
   "cell_type": "code",
   "execution_count": 78,
   "metadata": {
    "collapsed": true
   },
   "outputs": [],
   "source": [
    "import numpy as np\n",
    "import pandas as pd\n",
    "import matplotlib.pyplot as plt\n",
    "from scipy.stats import cauchy, gamma\n",
    "\n",
    "import edward as ed\n",
    "import numpy as np\n",
    "import tensorflow as tf\n",
    "from edward.models import Normal, Gamma, StudentT, Empirical\n",
    "from edward.models import NormalWithSoftplusScale, GammaWithSoftplusConcentrationRate\n",
    "\n",
    "import itertools\n",
    "import time"
   ]
  },
  {
   "cell_type": "markdown",
   "metadata": {},
   "source": [
    "### Data"
   ]
  },
  {
   "cell_type": "markdown",
   "metadata": {},
   "source": [
    "We generate 1 million samples from the Gaussian distribution with the model parameters:\n",
    "\n",
    "1. <b>delta</b> ~ cauchy(0, 1)\n",
    "2. <b>mu</b> ~ cauchy(0, 1)\n",
    "3. <b>sigma</b> ~ gamma(2, 2)\n",
    "4. <b>alpha</b> = delta * sigma\n",
    "5. <b>x</b> ~ normal(mu+alpha, sigma)\n",
    "6. <b>y</b> ~ normal(mu, sigma)"
   ]
  },
  {
   "cell_type": "code",
   "execution_count": 79,
   "metadata": {
    "collapsed": true
   },
   "outputs": [],
   "source": [
    "num_points = 1000000 # [100, 10000, 1000000]"
   ]
  },
  {
   "cell_type": "code",
   "execution_count": 80,
   "metadata": {
    "collapsed": true
   },
   "outputs": [],
   "source": [
    "def generate_data_normal(N):\n",
    "    delta = 1.5\n",
    "    mu = 0.0\n",
    "    sigma = 1.0\n",
    "    alpha = delta * sigma\n",
    "    \n",
    "    xdata = np.random.normal(mu+alpha, sigma, N)\n",
    "    ydata = np.random.normal(mu, sigma, N)\n",
    "    return (xdata, ydata)"
   ]
  },
  {
   "cell_type": "code",
   "execution_count": 81,
   "metadata": {
    "collapsed": true
   },
   "outputs": [],
   "source": [
    "def plot_points(x, y):\n",
    "    plt.figure(figsize=(10,5))\n",
    "    plt.plot(x, y, 'ok', markersize=3)\n",
    "    plt.grid()\n",
    "    plt.show()"
   ]
  },
  {
   "cell_type": "code",
   "execution_count": 82,
   "metadata": {
    "collapsed": true
   },
   "outputs": [],
   "source": [
    "def plot_data_hist(x, y):\n",
    "    plt.figure(figsize=(10,5))\n",
    "    plt.hist(x, alpha=0.5, bins=500, label=\"X data\")\n",
    "    plt.hist(y, alpha=0.5, bins=500, label=\"Y data\")\n",
    "    plt.legend(loc='lower right', fontsize=11)\n",
    "    plt.show()\n",
    "    \n",
    "def plot_trace_hist(trace):\n",
    "    plt.hist(trace, alpha=0.5, bins=500, label=\"delta\")\n",
    "    plt.legend(loc='lower right', fontsize=11)\n",
    "    plt.show()"
   ]
  },
  {
   "cell_type": "code",
   "execution_count": 83,
   "metadata": {},
   "outputs": [
    {
     "data": {
      "image/png": "[encoded data removed]",
      "text/plain": [
       "<matplotlib.figure.Figure at 0x1313dc198>"
      ]
     },
     "metadata": {},
     "output_type": "display_data"
    }
   ],
   "source": [
    "np.random.seed(42)\n",
    "xdata, ydata = generate_data_normal(num_points)\n",
    "plot_data_hist(xdata, ydata)"
   ]
  },
  {
   "cell_type": "markdown",
   "metadata": {},
   "source": [
    "Further we will investigate sampling package [Emcee](https://github.com/dfm/emcee) and variational inference using [Edward](https://github.com/blei-lab/edward) package."
   ]
  },
  {
   "cell_type": "markdown",
   "metadata": {},
   "source": [
    "# Emcee"
   ]
  },
  {
   "cell_type": "code",
   "execution_count": 55,
   "metadata": {},
   "outputs": [
    {
     "name": "stdout",
     "output_type": "stream",
     "text": [
      "2.2.1\n"
     ]
    }
   ],
   "source": [
    "import emcee\n",
    "print(emcee.__version__)"
   ]
  },
  {
   "cell_type": "code",
   "execution_count": 56,
   "metadata": {
    "collapsed": true
   },
   "outputs": [],
   "source": [
    "_xdata = np.array(xdata, dtype=float)\n",
    "_ydata = np.array(ydata, dtype=float)\n",
    "\n",
    "assert(all(np.isnan(_xdata)) == False)\n",
    "assert(all(np.isnan(_ydata)) == False)"
   ]
  },
  {
   "cell_type": "code",
   "execution_count": 57,
   "metadata": {
    "collapsed": true
   },
   "outputs": [],
   "source": [
    "def lnprior(theta):\n",
    "    delta, mu, sigma = theta\n",
    "    \n",
    "    prob_delta = cauchy.pdf(delta, 0, 1)\n",
    "    prob_mu = cauchy.pdf(mu, 0, 1)\n",
    "    prob_sigma = gamma.pdf(sigma, 2, 2)\n",
    "    \n",
    "    if prob_sigma <= 0:\n",
    "        return -np.inf\n",
    "    else:\n",
    "        return np.log(prob_delta) + np.log(prob_mu) + np.log(prob_sigma)\n",
    "    \n",
    "    \n",
    "def lnlike(theta, x, y):\n",
    "    delta, mu, sigma = theta\n",
    "    \n",
    "    log_coeff = np.log( 1 / np.sqrt(2 * np.pi * sigma**2) )\n",
    "    denom = 2 * (sigma ** 2)\n",
    "    x_g = ( (x - (mu + delta/sigma))**2 ) / denom\n",
    "    y_g = ( (y - mu)**2 ) / denom\n",
    "                \n",
    "    return (2 * log_coeff) - x_g - y_g \n",
    "\n",
    "def lnposterior(theta, x, y):\n",
    "    return lnprior(theta) + lnlike(theta, x, y)"
   ]
  },
  {
   "cell_type": "code",
   "execution_count": 58,
   "metadata": {
    "collapsed": true
   },
   "outputs": [],
   "source": [
    "ndim = 3  # number of parameters in the model\n",
    "nwalkers = 100  # number of MCMC walkers\n",
    "nburn = 1000  # \"burn-in\" period to let chains stabilize\n",
    "nsteps = 2000  # number of MCMC steps to take\n",
    "\n",
    "# set theta near the maximum likelihood, with \n",
    "starting_guesses = np.random.random((nwalkers, ndim))"
   ]
  },
  {
   "cell_type": "code",
   "execution_count": 59,
   "metadata": {},
   "outputs": [
    {
     "name": "stderr",
     "output_type": "stream",
     "text": [
      "/Users/ddedik/anaconda2/envs/py3k/lib/python3.6/site-packages/emcee/ensemble.py:335: RuntimeWarning: invalid value encountered in subtract\n",
      "  lnpdiff = (self.dim - 1.) * np.log(zz) + newlnprob - lnprob0\n",
      "/Users/ddedik/anaconda2/envs/py3k/lib/python3.6/site-packages/emcee/ensemble.py:336: RuntimeWarning: invalid value encountered in greater\n",
      "  accept = (lnpdiff > np.log(self._random.rand(len(lnpdiff))))\n"
     ]
    }
   ],
   "source": [
    "start_time = time.time()\n",
    "\n",
    "sampler = emcee.EnsembleSampler(nwalkers, ndim, lnposterior, args=[xdata, ydata])\n",
    "sampler.run_mcmc(starting_guesses, nsteps)\n",
    "\n",
    "end_time = time.time()"
   ]
  },
  {
   "cell_type": "code",
   "execution_count": 60,
   "metadata": {},
   "outputs": [
    {
     "data": {
      "image/png": "[encoded data removed]",
      "text/plain": [
       "<matplotlib.figure.Figure at 0x1240f4ba8>"
      ]
     },
     "metadata": {},
     "output_type": "display_data"
    },
    {
     "name": "stdout",
     "output_type": "stream",
     "text": [
      "--- emcee sampling vi 69.027498960495 seconds ---\n"
     ]
    }
   ],
   "source": [
    "emcee_trace = sampler.chain[:, nburn:, :].reshape(-1, ndim).T\n",
    "plt.hist(emcee_trace[0], alpha=0.5, bins=100, label=\"delta\")\n",
    "plt.show()\n",
    "print(\"--- emcee sampling vi %s seconds ---\" % (end_time - start_time))"
   ]
  },
  {
   "cell_type": "markdown",
   "metadata": {},
   "source": [
    "# Edward"
   ]
  },
  {
   "cell_type": "markdown",
   "metadata": {},
   "source": [
    "### Data"
   ]
  },
  {
   "cell_type": "code",
   "execution_count": 84,
   "metadata": {
    "collapsed": true
   },
   "outputs": [],
   "source": [
    "sess = ed.get_session()"
   ]
  },
  {
   "cell_type": "code",
   "execution_count": 85,
   "metadata": {
    "collapsed": true
   },
   "outputs": [],
   "source": [
    "# FORWARD MODEL, Prior\n",
    "mu = StudentT(1.0,[0.0],[1.0])\n",
    "delta = StudentT(1.0,[0.0],[1.0])\n",
    "sigma = Gamma([2.0],[2.0])\n",
    "alpha = delta * sigma"
   ]
  },
  {
   "cell_type": "code",
   "execution_count": 86,
   "metadata": {
    "collapsed": true
   },
   "outputs": [],
   "source": [
    "x = Normal(tf.tile(mu+delta,[num_points]), tf.tile(sigma,[num_points]))\n",
    "y = Normal(tf.tile(mu,[num_points]), tf.tile(sigma,[num_points]))"
   ]
  },
  {
   "cell_type": "markdown",
   "metadata": {},
   "source": [
    "Mean and delta are best approximated by the <b>NormalWithSoftplusScale</b> distribution with the softplus function on the scale (sigma)(variance should be positive) parameter since Cauchy and Normal are both defined on positive and negative scales. Sigma as a variance should be always positive: we approximate sigma with <b>GammaWithSoftplusConcentrationRate</b> distribution ensuring the positive concentration and rate parameters."
   ]
  },
  {
   "cell_type": "code",
   "execution_count": 87,
   "metadata": {
    "collapsed": true
   },
   "outputs": [],
   "source": [
    "# BACKWARD MODEL\n",
    "q_mu = NormalWithSoftplusScale(loc=tf.Variable([0.0]), scale=tf.Variable([1.0]))\n",
    "q_sigma = GammaWithSoftplusConcentrationRate(tf.nn.softplus(tf.Variable([1.0])), tf.nn.softplus(tf.Variable([1.0])))\n",
    "q_delta = NormalWithSoftplusScale(loc=tf.Variable([0.0]), scale=tf.Variable([1.0]))"
   ]
  },
  {
   "cell_type": "code",
   "execution_count": 88,
   "metadata": {
    "collapsed": true
   },
   "outputs": [],
   "source": [
    "# INFERENCE\n",
    "inference = ed.KLqp({delta: q_delta, mu: q_mu, sigma: q_sigma}, data={x: xdata, y: ydata})"
   ]
  },
  {
   "cell_type": "code",
   "execution_count": 89,
   "metadata": {},
   "outputs": [
    {
     "name": "stdout",
     "output_type": "stream",
     "text": [
      "10000/10000 [100%] ██████████████████████████████ Elapsed: 1537s | Loss: 3539549.500\n",
      "--- Edward vi 1537.8405618667603 seconds ---\n"
     ]
    }
   ],
   "source": [
    "start_time = time.time()\n",
    "inference.run(n_iter=10000, n_print=200, n_samples=10)\n",
    "end_time = time.time()\n",
    "print(\"--- Edward vi %s seconds ---\" % (end_time - start_time))"
   ]
  },
  {
   "cell_type": "code",
   "execution_count": 90,
   "metadata": {
    "collapsed": true
   },
   "outputs": [],
   "source": [
    "T = 10000\n",
    "delta_sample = sess.run(delta.sample(sample_shape=T))\n",
    "q_delta_sample = sess.run(q_delta.sample(sample_shape=T))"
   ]
  },
  {
   "cell_type": "code",
   "execution_count": 91,
   "metadata": {},
   "outputs": [
    {
     "data": {
      "image/png": "[encoded data removed]",
      "text/plain": [
       "<matplotlib.figure.Figure at 0x137a0c240>"
      ]
     },
     "metadata": {},
     "output_type": "display_data"
    }
   ],
   "source": [
    "plt.subplot(211)\n",
    "plt.hist(delta_sample, bins=100, label='delta samples')\n",
    "plt.legend(loc='upper right', fontsize=16)\n",
    "plt.grid(True)\n",
    "plt.xlim(-1000, 1000)\n",
    "\n",
    "plt.subplot(212)\n",
    "plt.hist(q_delta_sample, bins=100, label='q_delta samples')\n",
    "plt.legend(loc='upper right', fontsize=16)\n",
    "plt.grid(True)\n",
    "plt.show()"
   ]
  },
  {
   "cell_type": "code",
   "execution_count": 92,
   "metadata": {},
   "outputs": [
    {
     "name": "stdout",
     "output_type": "stream",
     "text": [
      "Mean: 1.6855731010437012\n",
      "Variance: 0.0\n"
     ]
    }
   ],
   "source": [
    "print(('Mean: {}').format(q_delta.eval().mean()))\n",
    "print(('Variance: {}').format(q_delta.eval().std()))"
   ]
  },
  {
   "cell_type": "code",
   "execution_count": 93,
   "metadata": {},
   "outputs": [
    {
     "name": "stdout",
     "output_type": "stream",
     "text": [
      "delta mu: [ 1.43979084], delta scale: [-1.06268966]\n"
     ]
    }
   ],
   "source": [
    "print(('delta mu: {}, delta scale: {}').format(q_delta.parameters['loc'].eval(), q_delta.parameters['scale'].eval()))"
   ]
  },
  {
   "cell_type": "markdown",
   "metadata": {},
   "source": [
    "### Results"
   ]
  },
  {
   "cell_type": "markdown",
   "metadata": {},
   "source": [
    "Comparison results for different <b>number of samples</b> for variation inference with Edward."
   ]
  },
  {
   "cell_type": "markdown",
   "metadata": {},
   "source": [
    "|Num Samples| Loss    | Time   |\n",
    "|-----------|--------:| ------:|\n",
    "| 200       |55458.379| 2296s  |\n",
    "| 100       |33341.516| 1182s  |\n",
    "| 50        |49572.426| 600s   |\n",
    "| 20        |44003.395| 227s   |\n",
    "| 15        |46201.785| 169s   |\n",
    "| 10        |47803.379| 122s   |\n",
    "| 5         |56676.551| 68s    |\n",
    "| 1         |63954.184| 24s    |"
   ]
  },
  {
   "cell_type": "markdown",
   "metadata": {},
   "source": [
    "Comparison results for different <b>optimization algorithms</b> for KL divergence. Number of samples:10, number of iterations: 10 000"
   ]
  },
  {
   "cell_type": "markdown",
   "metadata": {},
   "source": [
    "|Optimization method              | Description | Loss    | Time |\n",
    "|---------------------------------|--------:| ------:|------:|\n",
    "| KLqp                            |minimizes the objective by automatically selecting from a variety of black box inference techniques|35386.125|128s|\n",
    "| ReparameterizationKLqp          |minimizes the objective using the reparameterization gradient|43876.039|240s|\n",
    "| ReparameterizationEntropyKLqp   |minimizes the objective using the reparameterization gradient and an analytic entropy term|54193.547|184s|\n",
    "| ReparameterizationKLKLqp        |minimizes the objective using the reparameterization gradient and an analytic KL term|-|-|\n",
    "| ScoreEntropyKLqp                |minimizes the objective using the score function gradient and an analytic entropy term|38887.348|127s|\n",
    "| ScoreKLKLqp                     |minimizes the objective using the score function gradient and an analytic KL term|-|-|\n",
    "| ScoreKLqp                       |minimizes the objective using the score function gradient|43540.645|123s|\n",
    "\n",
    "'-' means 'No KL(dist_a || dist_b) registered for dist_a type NormalWithSoftplusScale and dist_b type StudentT' (Is automatically computed when p(z) and q(z; lambda) are Normal)"
   ]
  }
 ],
 "metadata": {
  "kernelspec": {
   "display_name": "Python 3",
   "language": "python",
   "name": "python3"
  },
  "language_info": {
   "codemirror_mode": {
    "name": "ipython",
    "version": 3
   },
   "file_extension": ".py",
   "mimetype": "text/x-python",
   "name": "python",
   "nbconvert_exporter": "python",
   "pygments_lexer": "ipython3",
   "version": "3.6.0"
  }
 },
 "nbformat": 4,
 "nbformat_minor": 2
}
