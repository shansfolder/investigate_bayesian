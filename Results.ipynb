{
 "cells": [
  {
   "cell_type": "markdown",
   "metadata": {},
   "source": [
    "# Runtime Comparison"
   ]
  },
  {
   "cell_type": "markdown",
   "metadata": {},
   "source": [
    "\n",
    "|         |         |100 data|10k data|1m data|   loss of vi of 1m data and 10k iter|\n",
    "|-------  | ------- | ------:| ------:| -----:| -----:|\n",
    "| PyStan  | Sampling| 64s    | 89s    |3146s (~50 mins)| |\n",
    "| PyStan  | VI      | 62s    | 62s    | 80s   | No loss value in result, but uses same algorithm as PyMC3|\n",
    "| PyMC3   | Sampling| 32s    | 76s    | 7923s (over 2 hours) ||\n",
    "| PyMC3   | VI      |  5s    |  6s    | 792s    |  5.0613e+06|       \n",
    "| Emcee   | Sampling|  59s     |  76s  |    12907s    |      |       \n",
    "| Edward (2000 iters)   | VI     |  56s     |   60s    | 2913s    |  1.8657e+08|\n",
    "| Edward (10000 iters)   | VI     |  240s     |   466s    | s    |  |   "
   ]
  },
  {
   "cell_type": "code",
   "execution_count": null,
   "metadata": {
    "collapsed": true
   },
   "outputs": [],
   "source": []
  }
 ],
 "metadata": {
  "kernelspec": {
   "display_name": "Python 3",
   "language": "python",
   "name": "python3"
  },
  "language_info": {
   "codemirror_mode": {
    "name": "ipython",
    "version": 3
   },
   "file_extension": ".py",
   "mimetype": "text/x-python",
   "name": "python",
   "nbconvert_exporter": "python",
   "pygments_lexer": "ipython3",
   "version": "3.6.1"
  }
 },
 "nbformat": 4,
 "nbformat_minor": 2
}
