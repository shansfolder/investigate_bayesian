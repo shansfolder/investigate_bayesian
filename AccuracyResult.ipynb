{
 "cells": [
  {
   "cell_type": "markdown",
   "metadata": {},
   "source": [
    "# Accuracy"
   ]
  },
  {
   "cell_type": "markdown",
   "metadata": {},
   "source": [
    "Find below a table of accuracy from different libraries and methods. Strage behaviour worth noting are in bold.\n",
    "\n",
    "| Data Generation         |         |         |         |         |         |         |         |         |\n",
    "| :-------                |:------- |:------- |:------- |:------- |:------- |:------- |:------- |:------- |\n",
    "| data size               |100      |100      |100      |100      |10000    |10000    |10000    |10000    |\n",
    "| mu                      |0        |0        |0        |0        |0        |0        |0        |0        |\n",
    "| sigma                   |1        |3        |1        |3        |1        |3        |1        |3        |\n",
    "| delta                   |0        |0        |1        |3        |0        |0        |1        |3        |\n",
    "| Posterior Property      | ------- | ------- | ------- | ------- | ------- | ------- | ------- | ------- |\n",
    "| true delta              |-0.126   |-0.126   |1.059    |3.091    |-0.015   |0.004    |1.001    |3.043    |\n",
    "| PyStan MCMC delta mean  |-0.122   |-0.080   |1.039    |3.032    |-0.015   |0.005    |1.001    |3.042    |\n",
    "| PyMC3 MCMC delta mean   |-0.120   |-0.089   |1.041    |3.032    |-0.015   |0.003    |1.000    |3.042    |\n",
    "| PyStan VI delta mean    |-0.119   |-0.088   |0.978    |3.037    |-0.002   |0.050    |0.960    |3.053    |\n",
    "| PyMC3 VI delta mean     |-0.105   |-0.076   |0.901    |2.894    |-0.006   |0.013    |0.890    |2.852    |\n",
    "| PyStan MCMC delta std   |0.129    |0.400    |0.140    |0.414    |0.014    |0.042    |0.014    |0.042    |\n",
    "| PyMC3 MCMC delta std    |0.130    |0.401    |0.141    |0.413    |0.014    |0.042    |0.014    |0.042    |\n",
    "| PyStan VI delta std     |0.121    |0.359    |0.112    |0.313    |0.014    |0.027    |0.010    |0.037    |\n",
    "| PyMC3 VI delta std      |0.190    |0.520    |0.260    |0.909    |0.171    |0.430    |0.232    |0.820    |"
   ]
  },
  {
   "cell_type": "code",
   "execution_count": null,
   "metadata": {
    "collapsed": true
   },
   "outputs": [],
   "source": []
  }
 ],
 "metadata": {
  "kernelspec": {
   "display_name": "Python 3",
   "language": "python",
   "name": "python3"
  },
  "language_info": {
   "codemirror_mode": {
    "name": "ipython",
    "version": 3
   },
   "file_extension": ".py",
   "mimetype": "text/x-python",
   "name": "python",
   "nbconvert_exporter": "python",
   "pygments_lexer": "ipython3",
   "version": "3.6.0"
  }
 },
 "nbformat": 4,
 "nbformat_minor": 2
}
