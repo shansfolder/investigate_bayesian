{
 "cells": [
  {
   "cell_type": "markdown",
   "metadata": {},
   "source": [
    "# Accuracy"
   ]
  },
  {
   "cell_type": "markdown",
   "metadata": {},
   "source": [
    "Find below a table of accuracy from different libraries and methods. Performance that worth noting are emphasised in bold.\n",
    "\n",
    "| Data Generation Property      | ------- | ------- | ------- | ------- | ------- | -------  | ------- | ------- | \n",
    "| :-------                      |:------- |:------- |:------- |:------- |:------- |:-------  |:------- |:------- |\n",
    "| data size                     |100      |100      |100      |100      |10000    |10000     |10000    |10000    |\n",
    "| mu                            |0        |0        |0        |0        |0        |0         |0        |0        |\n",
    "| sigma                         |1        |3        |1        |3        |1        |3         |1        |3        |\n",
    "| delta                         |0        |0        |1        |3        |0        |0         |1        |3        |\n",
    "| **Posterior Property**        | ------- | ------- | ------- | ------- | ------- | -------  | ------- | ------- |\n",
    "| true delta                    |-0.126   |-0.126   |1.059    |3.091    |-0.015   |0.004     |1.001    |3.043    |\n",
    "| PyStan MCMC delta mean        |-0.122   |-0.080   |1.039    |3.032    |-0.015   |0.005     |1.001    |3.042    |\n",
    "| PyMC3 MCMC delta mean         |-0.120   |-0.089   |1.041    |3.032    |-0.015   |0.003     |1.000    |3.042    |\n",
    "| PyStan VI delta mean          |-0.119   |-0.088   |0.978    |3.037    |-0.002   |0.050     |0.960    |3.053    |\n",
    "| PyMC3 VI delta mean           |-0.105   |-0.076   |0.901    |2.894    |-0.006   |0.013     |0.890    |2.852    |\n",
    "|Edward VI delta mean (iter=10k)|**0.091**|**0.160**|**0.657**|**1.686**|0.059    |**-0.902**|**0.668**|**1.597**|\n",
    "|Edward VI delta mean (iter=20k)|-0.189   |**0.131**|1.073    |3.027    |0.075    |**-2.234**|**1.567**|**1.705**|\n",
    "| PyStan MCMC delta std         |0.129    |0.400    |0.140    |0.414    |0.014    |0.042     |0.014    |0.042    |\n",
    "| PyMC3 MCMC delta std          |0.130    |0.401    |0.141    |0.413    |0.014    |0.042     |0.014    |0.042    |\n",
    "| PyStan VI delta std           |0.121    |0.359    |0.112    |0.313    |0.014    |0.027     |0.010    |0.037    |\n",
    "| PyMC3 VI delta std            |0.190    |0.520    |0.260    |**0.909**|0.171    |0.430     |0.232    |**0.820**|\n",
    "|Edward VI delta std (iter=10k) |**0.415**|0.443    |0.352    |**0.771**|**0.435**|**0.812** |**0.446**|**0.645**|\n",
    "|Edward VI delta std (iter=20k) |0.298    |**0.861**|0.296    |0.253    |**0.374**|**0.888** |0.193    |**0.803**|"
   ]
  },
  {
   "cell_type": "markdown",
   "metadata": {},
   "source": [
    "Since the runtime of sampling on big dataset is simply too large, we want to resort to variatioanl inference. The main purpose here is to investigate the difference of variational inference and mcmc sampling in terms of approximated posterior properties. We looked at mean and std of posterior in our evaluation."
   ]
  },
  {
   "cell_type": "markdown",
   "metadata": {
    "collapsed": true
   },
   "source": [
    "We can find that the performance of Edward is not very stable across different dataset. Increasing number of iterations helps sometimes, but will lead to worse in some cases too. I think the bad performance of Edward is due to the fact that we need to specify variational distributions for each parameters, and the performance highly depends on the distributions we choose. This task is particularly non-trivial (even impossbile) to find a good variantiaonal distribution for each parameter and for each dataset."
   ]
  },
  {
   "cell_type": "markdown",
   "metadata": {},
   "source": [
    "On the other hand, variational inference using PyStan and PyMC3 will select variational distribution automatically. We can observe that the approxiamted means in PyStan and PyMC3 are always very close to the true delta. The std of PyMC3 sometimes is pretty big though."
   ]
  },
  {
   "cell_type": "markdown",
   "metadata": {},
   "source": [
    "For the different normal distributions we have generated, VI via PyStan seems to be the best choice."
   ]
  },
  {
   "cell_type": "markdown",
   "metadata": {},
   "source": [
    "The same evaluation is conducted on real-world dataset.\n",
    "\n",
    "| Dataset                       | LNL        | FFT      | FFF      |\n",
    "| :-------                      |:-------    |:-------  |:-------  |\n",
    "| Control sample size           | 513266     | 16776    | 68855    |\n",
    "| Treatment sample size         | 514204     | 17489    | 67140    |\n",
    "| **Posterior Property**        | ---------  | ---------| ---------|\n",
    "| true delta                    | 0.001      | 0.002    | 0.002    |\n",
    "| PyStan MCMC delta mean        | 0.001      | 0.002    | 0.002    |\n",
    "| PyMC3 MCMC delta mean         | 0.001      | 0.001    | 0.002    |\n",
    "| PyStan VI delta mean          | 0.004      | 0.003    | 0.004    |\n",
    "| PyMC3 VI delta mean           | 0.004      | 0.003    | 0.004    |\n",
    "|Edward VI delta mean (iter=10k)| 0.006      | **0.105**| **0.024**|\n",
    "|Edward VI delta mean (iter=20k)| **-0.053** | 0.003    | **0.025**|\n",
    "|    ---------                  | ---------  | ---------| ---------|\n",
    "| PyStan MCMC delta std         | 0.000      | 0.002    | 0.001    |\n",
    "| PyMC3 MCMC delta std          | 0.000      | 0.002    | 0.001    |\n",
    "| PyStan VI delta std           | 0.000      | 0.008    | 0.001    |\n",
    "| PyMC3 VI delta std            | 0.073      | 0.068    | **0.069**|\n",
    "|Edward VI delta std (iter=10k) | 0.110      | 0.048    | **0.047**|\n",
    "|Edward VI delta std (iter=20k) | 0.109      | 0.040    | **0.038**|\n",
    "\n",
    "LNL = lipstick_catalog_naviTracking_bunchbox_NL  \n",
    "FFT = segmented_sorting_fasion_floor_trend  \n",
    "FFF = segmented_sorting_fasion_floor_fashion"
   ]
  },
  {
   "cell_type": "code",
   "execution_count": null,
   "metadata": {
    "collapsed": true
   },
   "outputs": [],
   "source": []
  }
 ],
 "metadata": {
  "kernelspec": {
   "display_name": "Python 3",
   "language": "python",
   "name": "python3"
  },
  "language_info": {
   "codemirror_mode": {
    "name": "ipython",
    "version": 3
   },
   "file_extension": ".py",
   "mimetype": "text/x-python",
   "name": "python",
   "nbconvert_exporter": "python",
   "pygments_lexer": "ipython3",
   "version": "3.6.0"
  }
 },
 "nbformat": 4,
 "nbformat_minor": 2
}
