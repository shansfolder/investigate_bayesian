{
 "cells": [
  {
   "cell_type": "code",
   "execution_count": 1,
   "metadata": {
    "collapsed": true
   },
   "outputs": [],
   "source": [
    "import numpy as np\n",
    "import pandas as pd\n",
    "import matplotlib.pyplot as plt"
   ]
  },
  {
   "cell_type": "markdown",
   "metadata": {},
   "source": [
    "# Data"
   ]
  },
  {
   "cell_type": "markdown",
   "metadata": {},
   "source": [
    "We generate 1 million samples from the Gaussian distribution with the model parameters:\n",
    "1. <b>delta</b> ~ cauchy(0, 1)\n",
    "2. <b>mu</b> ~ cauchy(0, 1)\n",
    "3. <b>sigma</b> ~ gamma(2, 2)\n",
    "4. <b>alpha</b> = delta * sigma\n",
    "5. <b>x</b> ~ normal(mu+alpha, sigma)\n",
    "6. <b>y</b> ~ normal(mu, sigma)"
   ]
  },
  {
   "cell_type": "code",
   "execution_count": 2,
   "metadata": {
    "collapsed": true
   },
   "outputs": [],
   "source": [
    "num_points = 1000000     # [100, 10000, 1000000]"
   ]
  },
  {
   "cell_type": "code",
   "execution_count": 3,
   "metadata": {
    "collapsed": true
   },
   "outputs": [],
   "source": [
    "def generate_data_normal(N):\n",
    "    delta = np.random.standard_cauchy(1)\n",
    "    mu = np.random.standard_cauchy(1)\n",
    "    sigma = np.random.gamma(2, 2, 1)\n",
    "    alpha = delta * sigma\n",
    "    \n",
    "    xdata = np.random.normal(mu+alpha, sigma, N)\n",
    "    ydata = np.random.normal(mu, sigma, N)\n",
    "    return (xdata, ydata)"
   ]
  },
  {
   "cell_type": "code",
   "execution_count": 4,
   "metadata": {
    "collapsed": true
   },
   "outputs": [],
   "source": [
    "def plot_data_hist(x, y):\n",
    "    plt.figure(figsize=(10,5))\n",
    "    plt.hist(x, alpha=0.5, bins=500, label=\"X data\")\n",
    "    plt.hist(y, alpha=0.5, bins=500, label=\"Y data\")\n",
    "    plt.legend(loc='lower right', fontsize=11)\n",
    "    plt.show()\n",
    "    \n",
    "def plot_trace_hist(trace):\n",
    "    trace = trace[trace < 1]\n",
    "    plt.hist(trace, alpha=0.5, bins=500, label=\"delta\")\n",
    "    plt.legend(loc='lower right', fontsize=11)\n",
    "    plt.show()"
   ]
  },
  {
   "cell_type": "code",
   "execution_count": 5,
   "metadata": {},
   "outputs": [
    {
     "data": {
      "image/png": "[encoded data removed]",
      "text/plain": [
       "<matplotlib.figure.Figure at 0x1070cff98>"
      ]
     },
     "metadata": {},
     "output_type": "display_data"
    }
   ],
   "source": [
    "np.random.seed(33)\n",
    "xdata, ydata = generate_data_normal(num_points)\n",
    "plot_data_hist(xdata, ydata)"
   ]
  },
  {
   "cell_type": "markdown",
   "metadata": {},
   "source": [
    "# PyStan"
   ]
  },
  {
   "cell_type": "markdown",
   "metadata": {},
   "source": [
    "The PyStan project is the official Python wrapper of the Stan Probabilistic programming language, which is implemented in C++."
   ]
  },
  {
   "cell_type": "code",
   "execution_count": 6,
   "metadata": {},
   "outputs": [
    {
     "data": {
      "text/plain": [
       "'2.15.0.0'"
      ]
     },
     "execution_count": 6,
     "metadata": {},
     "output_type": "execute_result"
    }
   ],
   "source": [
    "import pystan\n",
    "pystan.__version__"
   ]
  },
  {
   "cell_type": "code",
   "execution_count": 7,
   "metadata": {
    "collapsed": true
   },
   "outputs": [],
   "source": [
    "# Create the Stan model\n",
    "fit_code = \"\"\"\n",
    "data {\n",
    "\tint<lower=0> N; \t// number of entities\n",
    "\treal y[N]; \t\t// normally distributed KPI in the control group\n",
    "\treal x[N]; \t\t// normally distributed KPI in the treatment group\n",
    "}\n",
    "\n",
    "parameters {\n",
    "\treal mu;\t\t\t// population mean\n",
    "\treal<lower=0> sigma;// population variance\n",
    "\treal delta;\n",
    "}\n",
    "\n",
    "transformed parameters {\n",
    "\treal alpha;\t\t\t// total effect size\n",
    "\talpha = delta * sigma;\n",
    "}\n",
    "\n",
    "model {\n",
    "\tdelta ~ cauchy(0, 1);\n",
    "\tmu ~ cauchy(0, 1);\n",
    "\tsigma ~ gamma(2, 2);\n",
    "\tx ~ normal(mu+alpha, sigma);\n",
    "\ty ~ normal(mu, sigma);\n",
    "}\n",
    "\"\"\"\n",
    "fit_data = {'N': num_points, 'x': xdata, 'y': ydata}"
   ]
  },
  {
   "cell_type": "markdown",
   "metadata": {},
   "source": [
    "Sampling in Stan uses a No U-Turn Sampler, which is more sophisticated than classic Metropolis-Hastings or Gibbs sampling."
   ]
  },
  {
   "cell_type": "code",
   "execution_count": 8,
   "metadata": {},
   "outputs": [
    {
     "name": "stderr",
     "output_type": "stream",
     "text": [
      "INFO:pystan:COMPILING THE C++ CODE FOR MODEL anon_model_b2d45a7d585903714f857946572d3df0 NOW.\n"
     ]
    }
   ],
   "source": [
    "import time\n",
    "start_time = time.time()\n",
    "\n",
    "# perform the fit\n",
    "fit = pystan.stan(model_code=fit_code, data=fit_data, iter=25000, chains=4)\n",
    "# extract the traces\n",
    "traces = fit.extract()\n",
    "pystan_mcmc_trace = traces['delta']\n",
    "\n",
    "end_time = time.time()"
   ]
  },
  {
   "cell_type": "code",
   "execution_count": 9,
   "metadata": {},
   "outputs": [
    {
     "data": {
      "image/png": "[encoded data removed]",
      "text/plain": [
       "<matplotlib.figure.Figure at 0x10ba5b1d0>"
      ]
     },
     "metadata": {},
     "output_type": "display_data"
    },
    {
     "name": "stdout",
     "output_type": "stream",
     "text": [
      "--- pystan mcmc 99.3212342262268 seconds ---\n"
     ]
    }
   ],
   "source": [
    "plot_trace_hist(pystan_mcmc_trace)\n",
    "print(\"--- pystan mcmc %s seconds ---\" % (end_time - start_time))"
   ]
  },
  {
   "cell_type": "markdown",
   "metadata": {},
   "source": [
    "Variational inference is a scalable technique for approximate Bayesian inference. Variational inference in Stan  implements automatic differentiation variational inference (ADVI). The user only provides a Bayesian model and a dataset; nothing else. The algorithm automatically determines an appropriate variational family and optimizes the variational objective."
   ]
  },
  {
   "cell_type": "code",
   "execution_count": 10,
   "metadata": {},
   "outputs": [
    {
     "name": "stderr",
     "output_type": "stream",
     "text": [
      "INFO:pystan:COMPILING THE C++ CODE FOR MODEL anon_model_b2d45a7d585903714f857946572d3df0 NOW.\n",
      "WARNING:pystan:Automatic Differentiation Variational Inference (ADVI) is an EXPERIMENTAL ALGORITHM.\n",
      "WARNING:pystan:ADVI samples may be found on the filesystem in the file `/var/folders/c6/s8zzydh963z6pwr_8pncd90jhv53zz/T/tmpx643ts_e/output.csv`\n"
     ]
    }
   ],
   "source": [
    "from pystan import StanModel\n",
    "start_time = time.time()\n",
    "\n",
    "stan_model = StanModel(model_code=fit_code)\n",
    "results = stan_model.vb(data=fit_data)\n",
    "pystan_vi_trace = results['sampler_params'][2]\n",
    "\n",
    "end_time = time.time()"
   ]
  },
  {
   "cell_type": "code",
   "execution_count": 11,
   "metadata": {},
   "outputs": [
    {
     "data": {
      "image/png": "[encoded data removed]",
      "text/plain": [
       "<matplotlib.figure.Figure at 0x1082ba278>"
      ]
     },
     "metadata": {},
     "output_type": "display_data"
    },
    {
     "name": "stdout",
     "output_type": "stream",
     "text": [
      "--- pystan vi 67.31382393836975 seconds ---\n"
     ]
    }
   ],
   "source": [
    "plot_trace_hist(pystan_vi_trace)\n",
    "print(\"--- pystan vi %s seconds ---\" % (end_time - start_time))"
   ]
  },
  {
   "cell_type": "markdown",
   "metadata": {},
   "source": [
    "# PyMC"
   ]
  },
  {
   "cell_type": "markdown",
   "metadata": {},
   "source": [
    "PyMC by default uses the classic Metropolis-Hastings sampler, one of the earliest MCMC algorithms. For performance, it uses compiled fortran libraries.  \n",
    "\n",
    "Here we are testing the newly released PyMC3, which uses a native Python complier. PyMC3 also use No U-Turn Sampler as Stan and has varia"
   ]
  },
  {
   "cell_type": "code",
   "execution_count": 6,
   "metadata": {},
   "outputs": [
    {
     "data": {
      "text/plain": [
       "'3.1'"
      ]
     },
     "execution_count": 6,
     "metadata": {},
     "output_type": "execute_result"
    }
   ],
   "source": [
    "import pymc3 as pymc\n",
    "pymc.__version__"
   ]
  },
  {
   "cell_type": "code",
   "execution_count": 7,
   "metadata": {},
   "outputs": [
    {
     "name": "stderr",
     "output_type": "stream",
     "text": [
      "Auto-assigning NUTS sampler...\n",
      "Initializing NUTS using ADVI...\n",
      "Average Loss = 4.9248e+06:   7%|▋         | 14698/200000 [08:23<1:46:42, 28.94it/s]\n",
      "Convergence archived at 14700\n",
      "Interrupted at 14,700 [7%]: Average Loss = 8.5849e+06\n",
      "100%|██████████| 25500/25500 [2:03:29<00:00,  3.81it/s]  \n"
     ]
    }
   ],
   "source": [
    "import time\n",
    "start_time = time.time()\n",
    "\n",
    "with pymc.Model() as model:\n",
    "    delta = pymc.Cauchy('delta', 0, 1)\n",
    "    mu = pymc.Cauchy('mu', 0, 1)\n",
    "    sigma = pymc.Gamma('sigma', 2, 2)\n",
    "    alpha = pymc.Deterministic('alpha', delta * sigma)\n",
    "    x = pymc.Normal('x', mu=mu+alpha, sd=sigma, observed=xdata)\n",
    "    y = pymc.Normal('y', mu=mu, sd=sigma, observed=ydata)\n",
    "    \n",
    "    # run the basic MCMC: we'll do 25000 iterations to match PyStan above\n",
    "    trace = pymc.sample(25000, tune=500)\n",
    "    pymc_trace = trace['delta']\n",
    "\n",
    "end_time = time.time()"
   ]
  },
  {
   "cell_type": "code",
   "execution_count": 8,
   "metadata": {},
   "outputs": [
    {
     "data": {
      "image/png": "[encoded data removed]",
      "text/plain": [
       "<matplotlib.figure.Figure at 0x108706080>"
      ]
     },
     "metadata": {},
     "output_type": "display_data"
    },
    {
     "name": "stdout",
     "output_type": "stream",
     "text": [
      "--- pymc3 mcmc 7923.780344963074 seconds ---\n"
     ]
    }
   ],
   "source": [
    "plot_trace_hist(pymc_trace)\n",
    "print(\"--- pymc3 mcmc %s seconds ---\" % (end_time - start_time))"
   ]
  },
  {
   "cell_type": "markdown",
   "metadata": {},
   "source": [
    "Variational inference in PyMC3 implements the same algorithm as in Stan --- automatic differentiation variational inference (ADVI)."
   ]
  },
  {
   "cell_type": "code",
   "execution_count": 80,
   "metadata": {},
   "outputs": [
    {
     "name": "stderr",
     "output_type": "stream",
     "text": [
      "Average Loss = 50,847: 100%|██████████| 10000/10000 [00:02<00:00, 3633.90it/s]   \n",
      "INFO:pymc3.variational.inference:Finished [100%]: Average Loss = 50,845\n"
     ]
    },
    {
     "data": {
      "image/png": "[encoded data removed]",
      "text/plain": [
       "<matplotlib.figure.Figure at 0x144774898>"
      ]
     },
     "metadata": {},
     "output_type": "display_data"
    },
    {
     "name": "stdout",
     "output_type": "stream",
     "text": [
      "--- pymc3 vi 6.337280035018921 seconds ---\n"
     ]
    }
   ],
   "source": [
    "import time\n",
    "start_time = time.time()\n",
    "\n",
    "with model:\n",
    "    mean_field = pymc.fit(method='advi')\n",
    "    trace = mean_field.sample(25000)\n",
    "    pymc_trace = trace['delta']\n",
    "    \n",
    "end_time = time.time()\n",
    "\n",
    "plot_trace_hist(pymc_trace)\n",
    "print(\"--- pymc3 vi %s seconds ---\" % (end_time - start_time))"
   ]
  },
  {
   "cell_type": "markdown",
   "metadata": {},
   "source": [
    "Notice that ADVI will to approximate the multimodal distribution, since it uses a Gaussian distribution that has a single mode."
   ]
  },
  {
   "cell_type": "markdown",
   "metadata": {},
   "source": [
    "# Runtime Comparison"
   ]
  },
  {
   "cell_type": "markdown",
   "metadata": {},
   "source": [
    "|         |         |100 data|10k data|1m data|\n",
    "|-------  | ------- | ------:| ------:| -----:|\n",
    "| PyStan  | Sampling| 64s    | 89s    |3146s (~50 mins)|\n",
    "| PyStan  | VI      | 62s    | 62s    | 80s   |\n",
    "| PyMC3   | Sampling| 32s    | 76s    | 7923s (over 2 hours) |\n",
    "| PyMC3   | VI      |  5s    |  6s    | 6s    |                        "
   ]
  }
 ],
 "metadata": {
  "kernelspec": {
   "display_name": "Python 3",
   "language": "python",
   "name": "python3"
  },
  "language_info": {
   "codemirror_mode": {
    "name": "ipython",
    "version": 3
   },
   "file_extension": ".py",
   "mimetype": "text/x-python",
   "name": "python",
   "nbconvert_exporter": "python",
   "pygments_lexer": "ipython3",
   "version": "3.6.0"
  }
 },
 "nbformat": 4,
 "nbformat_minor": 2
}
