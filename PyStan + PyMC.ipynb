{
 "cells": [
  {
   "cell_type": "code",
   "execution_count": 87,
   "metadata": {
    "collapsed": true
   },
   "outputs": [],
   "source": [
    "import numpy as np\n",
    "import pandas as pd\n",
    "import matplotlib.pyplot as plt"
   ]
  },
  {
   "cell_type": "markdown",
   "metadata": {},
   "source": [
    "# Data"
   ]
  },
  {
   "cell_type": "markdown",
   "metadata": {},
   "source": [
    "We generate 1 million samples from the Gaussian distribution with the model parameters:\n",
    "1. <b>delta</b> ~ cauchy(0, 1)\n",
    "2. <b>mu</b> ~ cauchy(0, 1)\n",
    "3. <b>sigma</b> ~ gamma(2, 2)\n",
    "4. <b>alpha</b> = delta * sigma\n",
    "5. <b>x</b> ~ normal(mu+alpha, sigma)\n",
    "6. <b>y</b> ~ normal(mu, sigma)"
   ]
  },
  {
   "cell_type": "code",
   "execution_count": 88,
   "metadata": {
    "collapsed": true
   },
   "outputs": [],
   "source": [
    "num_points = 10000     # [100, 10000, 1000000]"
   ]
  },
  {
   "cell_type": "code",
   "execution_count": 89,
   "metadata": {
    "collapsed": true
   },
   "outputs": [],
   "source": [
    "def generate_data_normal(N):\n",
    "    delta = np.random.standard_cauchy(1)\n",
    "    mu = np.random.standard_cauchy(1)\n",
    "    sigma = np.random.gamma(2, 2, 1)\n",
    "    alpha = delta * sigma\n",
    "    \n",
    "    xdata = np.random.normal(mu+alpha, sigma, N)\n",
    "    ydata = np.random.normal(mu, sigma, N)\n",
    "    return (xdata, ydata)"
   ]
  },
  {
   "cell_type": "code",
   "execution_count": 90,
   "metadata": {
    "collapsed": true
   },
   "outputs": [],
   "source": [
    "def plot_data_hist(x, y):\n",
    "    plt.figure(figsize=(10,5))\n",
    "    plt.hist(x, alpha=0.5, bins=500, label=\"X data\")\n",
    "    plt.hist(y, alpha=0.5, bins=500, label=\"Y data\")\n",
    "    plt.legend(loc='lower right', fontsize=11)\n",
    "    plt.show()\n",
    "    \n",
    "def plot_trace_hist(trace):\n",
    "    plt.hist(trace, alpha=0.5, bins=500, label=\"delta\")\n",
    "    plt.legend(loc='lower right', fontsize=11)\n",
    "    plt.show()"
   ]
  },
  {
   "cell_type": "code",
   "execution_count": 91,
   "metadata": {},
   "outputs": [
    {
     "data": {
      "image/png": "[encoded data removed]",
      "text/plain": [
       "<matplotlib.figure.Figure at 0x107bc7198>"
      ]
     },
     "metadata": {},
     "output_type": "display_data"
    }
   ],
   "source": [
    "np.random.seed(33)\n",
    "xdata, ydata = generate_data_normal(num_points)\n",
    "plot_data_hist(xdata, ydata)"
   ]
  },
  {
   "cell_type": "markdown",
   "metadata": {},
   "source": [
    "# PyStan"
   ]
  },
  {
   "cell_type": "markdown",
   "metadata": {},
   "source": [
    "The PyStan project is the official Python wrapper of the Stan Probabilistic programming language, which is implemented in C++."
   ]
  },
  {
   "cell_type": "code",
   "execution_count": 92,
   "metadata": {},
   "outputs": [
    {
     "data": {
      "text/plain": [
       "'2.15.0.0'"
      ]
     },
     "execution_count": 92,
     "metadata": {},
     "output_type": "execute_result"
    }
   ],
   "source": [
    "import pystan\n",
    "pystan.__version__"
   ]
  },
  {
   "cell_type": "code",
   "execution_count": 93,
   "metadata": {},
   "outputs": [],
   "source": [
    "# Create the Stan model\n",
    "fit_code = \"\"\"\n",
    "data {\n",
    "\tint<lower=0> N; \t// number of entities\n",
    "\treal y[N]; \t\t// normally distributed KPI in the control group\n",
    "\treal x[N]; \t\t// normally distributed KPI in the treatment group\n",
    "}\n",
    "\n",
    "parameters {\n",
    "\treal mu;\t\t\t// population mean\n",
    "\treal<lower=0> sigma;// population variance\n",
    "\treal delta;\n",
    "}\n",
    "\n",
    "transformed parameters {\n",
    "\treal alpha;\t\t\t// total effect size\n",
    "\talpha = delta * sigma;\n",
    "}\n",
    "\n",
    "model {\n",
    "\tdelta ~ cauchy(0, 1);\n",
    "\tmu ~ cauchy(0, 1);\n",
    "\tsigma ~ gamma(2, 2);\n",
    "\tx ~ normal(mu+alpha, sigma);\n",
    "\ty ~ normal(mu, sigma);\n",
    "}\n",
    "\"\"\"\n",
    "fit_data = {'N': num_points, 'x': xdata, 'y': ydata}"
   ]
  },
  {
   "cell_type": "markdown",
   "metadata": {},
   "source": [
    "Sampling in Stan uses a No U-Turn Sampler, which is more sophisticated than classic Metropolis-Hastings or Gibbs sampling."
   ]
  },
  {
   "cell_type": "code",
   "execution_count": 94,
   "metadata": {},
   "outputs": [
    {
     "name": "stderr",
     "output_type": "stream",
     "text": [
      "INFO:pystan:COMPILING THE C++ CODE FOR MODEL anon_model_b2d45a7d585903714f857946572d3df0 NOW.\n"
     ]
    }
   ],
   "source": [
    "import time\n",
    "start_time = time.time()\n",
    "\n",
    "# perform the fit\n",
    "fit = pystan.stan(model_code=fit_code, data=fit_data, iter=25000, chains=4)\n",
    "# extract the traces\n",
    "traces = fit.extract()\n",
    "pystan_mcmc_trace = traces['delta']\n",
    "\n",
    "end_time = time.time()"
   ]
  },
  {
   "cell_type": "code",
   "execution_count": 95,
   "metadata": {},
   "outputs": [
    {
     "data": {
      "image/png": "[encoded data removed]",
      "text/plain": [
       "<matplotlib.figure.Figure at 0x10df437f0>"
      ]
     },
     "metadata": {},
     "output_type": "display_data"
    },
    {
     "name": "stdout",
     "output_type": "stream",
     "text": [
      "--- pystan mcmc 88.67490124702454 seconds ---\n"
     ]
    }
   ],
   "source": [
    "plot_trace_hist(pystan_mcmc_trace)\n",
    "print(\"--- pystan mcmc %s seconds ---\" % (end_time - start_time))"
   ]
  },
  {
   "cell_type": "markdown",
   "metadata": {},
   "source": [
    "Variational inference is a scalable technique for approximate Bayesian inference. Variational inference in Stan  implements automatic differentiation variational inference (ADVI). The user only provides a Bayesian model and a dataset; nothing else. The algorithm automatically determines an appropriate variational family and optimizes the variational objective."
   ]
  },
  {
   "cell_type": "code",
   "execution_count": 96,
   "metadata": {},
   "outputs": [
    {
     "name": "stderr",
     "output_type": "stream",
     "text": [
      "INFO:pystan:COMPILING THE C++ CODE FOR MODEL anon_model_b2d45a7d585903714f857946572d3df0 NOW.\n",
      "WARNING:pystan:Automatic Differentiation Variational Inference (ADVI) is an EXPERIMENTAL ALGORITHM.\n",
      "WARNING:pystan:ADVI samples may be found on the filesystem in the file `/var/folders/c6/s8zzydh963z6pwr_8pncd90jhv53zz/T/tmppxgsweyk/output.csv`\n"
     ]
    }
   ],
   "source": [
    "from pystan import StanModel\n",
    "start_time = time.time()\n",
    "\n",
    "stan_model = StanModel(model_code=fit_code)\n",
    "results = stan_model.vb(data=fit_data)\n",
    "pystan_vi_trace = results['sampler_params'][2]\n",
    "\n",
    "end_time = time.time()"
   ]
  },
  {
   "cell_type": "code",
   "execution_count": 97,
   "metadata": {},
   "outputs": [
    {
     "data": {
      "image/png": "[encoded data removed]",
      "text/plain": [
       "<matplotlib.figure.Figure at 0x108e9b5f8>"
      ]
     },
     "metadata": {},
     "output_type": "display_data"
    },
    {
     "name": "stdout",
     "output_type": "stream",
     "text": [
      "--- pystan vi 62.566168785095215 seconds ---\n"
     ]
    }
   ],
   "source": [
    "plot_trace_hist(pystan_vi_trace)\n",
    "print(\"--- pystan vi %s seconds ---\" % (end_time - start_time))"
   ]
  },
  {
   "cell_type": "markdown",
   "metadata": {},
   "source": [
    "# PyMC"
   ]
  },
  {
   "cell_type": "code",
   "execution_count": null,
   "metadata": {},
   "outputs": [],
   "source": []
  },
  {
   "cell_type": "code",
   "execution_count": null,
   "metadata": {
    "collapsed": true
   },
   "outputs": [],
   "source": []
  }
 ],
 "metadata": {
  "kernelspec": {
   "display_name": "Python 3",
   "language": "python",
   "name": "python3"
  },
  "language_info": {
   "codemirror_mode": {
    "name": "ipython",
    "version": 3
   },
   "file_extension": ".py",
   "mimetype": "text/x-python",
   "name": "python",
   "nbconvert_exporter": "python",
   "pygments_lexer": "ipython3",
   "version": "3.6.0"
  }
 },
 "nbformat": 4,
 "nbformat_minor": 2
}
